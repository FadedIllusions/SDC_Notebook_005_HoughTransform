{
 "cells": [
  {
   "cell_type": "code",
   "execution_count": 1,
   "metadata": {},
   "outputs": [],
   "source": [
    "# Import Needed Packages\n",
    "import matplotlib.pyplot as plt\n",
    "import matplotlib.image as mpimg\n",
    "import numpy as np\n",
    "import cv2"
   ]
  },
  {
   "cell_type": "code",
   "execution_count": 3,
   "metadata": {},
   "outputs": [],
   "source": [
    "# Read In Image, Convert To Grayscale\n",
    "image = mpimg.imread('exit_ramp.jpg')\n",
    "gray = cv2.cvtColor(image, cv2.COLOR_RGB2GRAY)"
   ]
  },
  {
   "cell_type": "code",
   "execution_count": 4,
   "metadata": {},
   "outputs": [],
   "source": [
    "# Define Gaussian Kernel And Apply Blurring\n",
    "k_size = 5\n",
    "blur_gray = cv2.GaussianBlur(gray, (k_size,k_size), 0)"
   ]
  },
  {
   "cell_type": "code",
   "execution_count": 5,
   "metadata": {},
   "outputs": [],
   "source": [
    "# Define Canny Parameters And Apply\n",
    "l_thresh = 50\n",
    "h_thresh = 150\n",
    "masked_edges = cv2.Canny(blur_gray, l_thresh, h_thresh)"
   ]
  },
  {
   "cell_type": "code",
   "execution_count": 6,
   "metadata": {},
   "outputs": [],
   "source": [
    "# Define Hough Transform Parameters\n",
    "rho = 1\n",
    "theta = np.pi/180\n",
    "thresh = 1\n",
    "min_line_length = 10\n",
    "max_line_gap = 1\n",
    "\n",
    "#Make Image-Sized Blank To Draw On\n",
    "line_image = np.copy(image)*0\n",
    "\n",
    "# Perform Hough Transform On Edge-Detected Image\n",
    "lines = cv2.HoughLinesP(masked_edges, rho, theta, thresh, np.array([]), min_line_length, max_line_gap)"
   ]
  },
  {
   "cell_type": "code",
   "execution_count": 7,
   "metadata": {},
   "outputs": [],
   "source": [
    "# Iterate Over Output Lines And Draw On Blank Image\n",
    "for line in lines:\n",
    "    for x1,y1,x2,y2 in line:\n",
    "        cv2.line(line_image, (x1,y1),(x2,y2),(255,0,0), 10)"
   ]
  },
  {
   "cell_type": "code",
   "execution_count": 8,
   "metadata": {},
   "outputs": [],
   "source": [
    "# Create Color Binary Image To Combine With Lines\n",
    "color_edges = np.dstack((masked_edges, masked_edges, masked_edges))"
   ]
  },
  {
   "cell_type": "code",
   "execution_count": 9,
   "metadata": {},
   "outputs": [
    {
     "data": {
      "text/plain": [
       "<matplotlib.image.AxesImage at 0x7ff14272f780>"
      ]
     },
     "execution_count": 9,
     "metadata": {},
     "output_type": "execute_result"
    },
    {
     "data": {
      "image/png": "[encoded data removed]",
      "text/plain": [
       "<Figure size 432x288 with 1 Axes>"
      ]
     },
     "metadata": {
      "needs_background": "light"
     },
     "output_type": "display_data"
    }
   ],
   "source": [
    "# Draw Lines On Edge Image And Display\n",
    "combo = cv2.addWeighted(color_edges, 0.8, line_image, 1, 0)\n",
    "plt.imshow(combo)"
   ]
  }
 ],
 "metadata": {
  "kernelspec": {
   "display_name": "Python 3",
   "language": "python",
   "name": "python3"
  },
  "language_info": {
   "codemirror_mode": {
    "name": "ipython",
    "version": 3
   },
   "file_extension": ".py",
   "mimetype": "text/x-python",
   "name": "python",
   "nbconvert_exporter": "python",
   "pygments_lexer": "ipython3",
   "version": "3.6.9"
  }
 },
 "nbformat": 4,
 "nbformat_minor": 4
}
